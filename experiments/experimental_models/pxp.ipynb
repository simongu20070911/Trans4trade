{
 "cells": [
  {
   "cell_type": "code",
   "execution_count": 8,
   "metadata": {},
   "outputs": [
    {
     "name": "stdout",
     "output_type": "stream",
     "text": [
      "Tensor saved to '/home/gaen/Documents/codespace-gaen/Ts-master/experimental_models/log.txt'\n"
     ]
    }
   ],
   "source": [
    "import torch\n",
    "\n",
    "# Create a tensor of shape 5x5\n",
    "x = torch.zeros(5, 5)\n",
    "\n",
    "# File path to save the tensor\n",
    "file_path = '/home/gaen/Documents/codespace-gaen/Ts-master/experimental_models/log.txt'\n",
    "\n",
    "# Save the tensor in a readable format\n",
    "with open(file_path, 'w') as file:\n",
    "    file.write(str(x)+\"\\n\\n\")\n",
    "\n",
    "print(f\"Tensor saved to '{file_path}'\")"
   ]
  },
  {
   "cell_type": "code",
   "execution_count": 9,
   "metadata": {},
   "outputs": [
    {
     "name": "stdout",
     "output_type": "stream",
     "text": [
      "DataFrame with description saved to '/home/gaen/Documents/codespace-gaen/Ts-master/experimental_models/log.txt'\n"
     ]
    }
   ],
   "source": [
    "import pandas as pd\n",
    "\n",
    "# Create a DataFrame\n",
    "data = {\n",
    "    'Column1': [1, 2, 3, 4, 5],\n",
    "    'Column2': [5, 4, 3, 2, 1],\n",
    "    'Column3': [10, 20, 30, 40, 50]\n",
    "}\n",
    "df = pd.DataFrame(data)\n",
    "\n",
    "# File path to save the DataFrame\n",
    "file_path = '/home/gaen/Documents/codespace-gaen/Ts-master/experimental_models/log.txt'\n",
    "\n",
    "# Add a descriptive line and append the DataFrame\n",
    "with open(file_path, 'a') as file:  # 'a' mode for appending\n",
    "    file.write(df.to_string())\n",
    "    file.write(\"\\n\\n\")  # Add extra newline for separation\n",
    "\n",
    "print(f\"DataFrame with description saved to '{file_path}'\")"
   ]
  },
  {
   "cell_type": "code",
   "execution_count": null,
   "metadata": {},
   "outputs": [],
   "source": []
  }
 ],
 "metadata": {
  "kernelspec": {
   "display_name": "lastestorch",
   "language": "python",
   "name": "python3"
  },
  "language_info": {
   "codemirror_mode": {
    "name": "ipython",
    "version": 3
   },
   "file_extension": ".py",
   "mimetype": "text/x-python",
   "name": "python",
   "nbconvert_exporter": "python",
   "pygments_lexer": "ipython3",
   "version": "3.11.9"
  }
 },
 "nbformat": 4,
 "nbformat_minor": 2
}

{
 "cells": [
  {
   "cell_type": "code",
   "execution_count": 1,
   "metadata": {
    "cellView": "form",
    "execution": {
     "iopub.execute_input": "2024-10-15T10:46:48.967291Z",
     "iopub.status.busy": "2024-10-15T10:46:48.966948Z",
     "iopub.status.idle": "2024-10-15T10:46:54.208571Z",
     "shell.execute_reply": "2024-10-15T10:46:54.208019Z",
     "shell.execute_reply.started": "2024-10-15T10:46:48.967269Z"
    },
    "id": "z68p_q4eISQP",
    "tags": []
   },
   "outputs": [],
   "source": [
    "import os\n",
    "import glob\n",
    "\n",
    "from tqdm import trange\n",
    "import random\n",
    "import math\n",
    "\n",
    "from dateutil import parser\n",
    "from datetime import datetime\n",
    "import time\n",
    "\n",
    "import numpy as np\n",
    "import pandas as pd\n",
    "\n",
    "import torch\n",
    "import torch.nn as nn\n",
    "import torch.nn.functional as F\n",
    "import torch.optim as optim\n",
    "from torch.utils.data import Dataset, DataLoader\n",
    "from sklearn.metrics import r2_score\n",
    "\n",
    "import matplotlib.pyplot as plt\n",
    "from matplotlib.pyplot import figure"
   ]
  },
  {
   "cell_type": "code",
   "execution_count": 2,
   "metadata": {
    "ExecutionIndicator": {
     "show": false
    },
    "execution": {
     "iopub.execute_input": "2024-10-15T10:46:54.210006Z",
     "iopub.status.busy": "2024-10-15T10:46:54.209662Z",
     "iopub.status.idle": "2024-10-15T10:46:54.216528Z",
     "shell.execute_reply": "2024-10-15T10:46:54.215979Z",
     "shell.execute_reply.started": "2024-10-15T10:46:54.209985Z"
    },
    "id": "FUcYIRwMIVPV",
    "tags": []
   },
   "outputs": [],
   "source": [
    "config = {\n",
    "  \"plots\": {\n",
    "        \"show_plots\": False,\n",
    "        \"xticks_interval\": 1200,\n",
    "        \"color_actual\": \"#001f3f\",\n",
    "        \"color_train\": \"#3D9970\",\n",
    "        \"color_val\": \"#0074D9\",\n",
    "        \"color_test\": \"#FF4136\",\n",
    "        \"color_pred_train\": \"#3D9970\",\n",
    "        \"color_pred_val\": \"#0074D9\",\n",
    "        \"color_pred_test\": \"#FF4136\",\n",
    "    },\n",
    "    \"data\": {\n",
    "        \"window_size\": 10,\n",
    "        \"train_split_size\": 0.80,\n",
    "    }, \n",
    "    \"model_MO\": {\n",
    "        \"input_size\": 1, # since we are only using 1 feature, price\n",
    "        \"num_lstm_layers\": 5,\n",
    "        \"lstm_size\": 16,\n",
    "        \"dropout\": 0.25,\n",
    "        \"output_size\": 1,\n",
    "    },\n",
    "    \"training_MO\": {\n",
    "        \"batch_size\": 1,\n",
    "        \"num_epoch\": 50,\n",
    "        \"learning_rate\": 0.005,\n",
    "        \"scheduler_step_size\": 10,\n",
    "    },\n",
    "    \"model_MM\": {\n",
    "        \"input_size\": 1, # since we are only using 1 feature, price\n",
    "        \"num_lstm_layers\": 5,\n",
    "        \"lstm_size\": 16,\n",
    "        \"dropout\": 0.4,\n",
    "        \"target_len\": 60,\n",
    "        \"stride\": 1,\n",
    "        \"patience\": 5, # number of epochs to wait for Early Stopping\n",
    "    },\n",
    "    \"training_MM\": {\n",
    "        \"batch_size\": 256,\n",
    "        \"num_epoch\": 15,\n",
    "        \"learning_rate\": 0.004,\n",
    "        \"scheduler_step_size\": 10,\n",
    "    },\n",
    "    \"paths\": {\n",
    "        \"drive\": {\n",
    "            \"agg_trade\": {\n",
    "                \"train\": \"/content/drive/MyDrive/IP/Repos/HFTransformer/input_data/\",\n",
    "                \"test\": \"/content/drive/MyDrive/IP/Repos/HFTransformer/input_data/\", \n",
    "            },\n",
    "            \"orderbook\": {\n",
    "                \"train\": \"/content/drive/MyDrive/IP/Repos/LSTM_Transformer/input_data/orderbook_clean.csv\",\n",
    "                \"test\": \"/content/drive/MyDrive/IP/Repos/LSTM_Transformer/input_data/orderbook_test_clean.csv\",\n",
    "            },\n",
    "            \"models\": \"/content/drive/MyDrive/IP/Repos/LSTM_Transformer/models/\",\n",
    "            \"figures\": \"/content/drive/MyDrive/IP/Repos/LSTM_Transformer/figures/\",\n",
    "        },\n",
    "        \"local\": {\n",
    "            \"agg_trade\": {\n",
    "                \"train\": \"./input_data/\",\n",
    "                \"test\": \"./input_data/\", \n",
    "            },\n",
    "            \"orderbook\": {\n",
    "                \"train\": \"./input_data/orderbook_clean.csv\",\n",
    "                \"test\": \"./input_data/orderbook_test_clean.csv\",\n",
    "            },\n",
    "            \"models\": \"./models/\",\n",
    "            \"figures\": \"./figures\",\n",
    "        }\n",
    "    }\n",
    "}"
   ]
  },
  {
   "cell_type": "markdown",
   "metadata": {
    "id": "olYwt1apSFb6"
   },
   "source": [
    "## Data preparation"
   ]
  },
  {
   "cell_type": "code",
   "execution_count": 3,
   "metadata": {
    "ExecutionIndicator": {
     "show": true
    },
    "execution": {
     "iopub.execute_input": "2024-10-15T10:46:54.217523Z",
     "iopub.status.busy": "2024-10-15T10:46:54.217205Z",
     "iopub.status.idle": "2024-10-15T10:46:56.433211Z",
     "shell.execute_reply": "2024-10-15T10:46:56.432613Z",
     "shell.execute_reply.started": "2024-10-15T10:46:54.217504Z"
    },
    "id": "gNUPSKJMEJLw",
    "tags": []
   },
   "outputs": [
    {
     "data": {
      "text/plain": [
       "'cuda'"
      ]
     },
     "execution_count": 3,
     "metadata": {},
     "output_type": "execute_result"
    }
   ],
   "source": [
    "device = \"cuda\" if torch.cuda.is_available() else \"cpu\"\n",
    "drive = False\n",
    "device"
   ]
  },
  {
   "cell_type": "code",
   "execution_count": 4,
   "metadata": {
    "colab": {
     "base_uri": "https://localhost:8080/"
    },
    "execution": {
     "iopub.execute_input": "2024-10-15T10:46:56.434807Z",
     "iopub.status.busy": "2024-10-15T10:46:56.434539Z",
     "iopub.status.idle": "2024-10-15T10:46:56.437157Z",
     "shell.execute_reply": "2024-10-15T10:46:56.436676Z",
     "shell.execute_reply.started": "2024-10-15T10:46:56.434785Z"
    },
    "id": "JSphepU9DzNq",
    "outputId": "f970c93c-8584-4a72-d4d9-72251a1218c1",
    "tags": []
   },
   "outputs": [],
   "source": [
    "#from google.colab import drive\n",
    "#drive.mount('/content/drive')"
   ]
  },
  {
   "cell_type": "code",
   "execution_count": 5,
   "metadata": {
    "execution": {
     "iopub.execute_input": "2024-10-15T10:46:56.438048Z",
     "iopub.status.busy": "2024-10-15T10:46:56.437818Z",
     "iopub.status.idle": "2024-10-15T10:47:09.307513Z",
     "shell.execute_reply": "2024-10-15T10:47:09.306948Z",
     "shell.execute_reply.started": "2024-10-15T10:46:56.438027Z"
    },
    "id": "j7bWYyArIVRq",
    "tags": []
   },
   "outputs": [],
   "source": [
    "date_train = 'All_to_Sept' \n",
    "date_test = 'All_to_Sept'\n",
    "drive = None\n",
    "if drive:\n",
    "    agg_trade = pd.read_csv(config[\"paths\"][\"drive\"][\"agg_trade\"][\"train\"]+date_train+'/orderbook.csv')    \n",
    "else:\n",
    "    agg_trade = pd.read_csv(config[\"paths\"][\"local\"][\"agg_trade\"][\"train\"]+date_train+'/orderbook_agg_trade_dollarvol.csv')\n",
    "    agg_trade_test = pd.read_csv(config[\"paths\"][\"local\"][\"agg_trade\"][\"test\"]+date_test+'/orderbook_agg_trade_dollarvol.csv')\n",
    "\n",
    "#agg_trade['price'] = agg_trade['w_midprice']"
   ]
  },
  {
   "cell_type": "markdown",
   "metadata": {
    "id": "1mstDxZxSFb9"
   },
   "source": [
    "## Preparing Data for LSTM MO"
   ]
  },
  {
   "cell_type": "code",
   "execution_count": 6,
   "metadata": {
    "execution": {
     "iopub.execute_input": "2024-10-15T10:47:09.308553Z",
     "iopub.status.busy": "2024-10-15T10:47:09.308360Z",
     "iopub.status.idle": "2024-10-15T10:47:09.317173Z",
     "shell.execute_reply": "2024-10-15T10:47:09.316684Z",
     "shell.execute_reply.started": "2024-10-15T10:47:09.308534Z"
    },
    "id": "5cinhNa4JRHu",
    "tags": []
   },
   "outputs": [],
   "source": [
    "def prepare_data_x(data, window_size, lag):\n",
    "    '''\n",
    "    Windows the input data for the ML models.\n",
    "    '''\n",
    "    n_row = data.shape[0] - window_size + 1\n",
    "    subset = data[:window_size]\n",
    "    subset_mean = np.mean(subset, axis=0)\n",
    "    output = np.zeros([n_row, window_size, len(subset_mean)])\n",
    "    x_mean = np.zeros([n_row, len(subset_mean)])\n",
    "    x_std = np.zeros([n_row, len(subset_mean)])\n",
    "    for idx in range(n_row):\n",
    "        subset = data[idx:idx+window_size]\n",
    "        subset_mean = np.mean(subset, axis=0)\n",
    "        subset_std = np.std(subset, axis=0) + 0.01\n",
    "        subset_norm = (subset-subset_mean)/subset_std\n",
    "        x_mean[idx,:] = subset_mean\n",
    "        x_std[idx,:] = subset_std\n",
    "        output[idx,:,:] = subset_norm\n",
    "    x_mean = np.array(x_mean)\n",
    "    x_std = np.array(x_std)\n",
    "    return output[:-lag-1], output[-1], x_mean, x_std\n",
    "\n",
    "def prepare_data_y(x, window_size, lag):\n",
    "    '''\n",
    "    Windows the target data for the ML models.\n",
    "    '''\n",
    "    output = np.zeros([len(x)-window_size-lag])\n",
    "    std = 1.1*np.sqrt(lag)+lag*0.01\n",
    "    for idx in range(0,len(x)-window_size-lag):\n",
    "        output[idx] = np.log(x[window_size+lag-1+idx,0]/x[window_size-1+idx,0])*10_000\n",
    "    output = output/std\n",
    "    return output\n",
    "\n",
    "def prepare_data(normalized_prices_train, dates_train, normalized_prices_test, dates_test, config, lag=1, plot=False):\n",
    "    '''\n",
    "    Returns input and target data.\n",
    "    '''\n",
    "    data_x, data_x_unseen, x_mean, x_std = prepare_data_x(normalized_prices_train, window_size=config[\"data\"][\"window_size\"], lag=lag)\n",
    "    data_y = prepare_data_y(normalized_prices_train, window_size=config[\"data\"][\"window_size\"], lag=lag)\n",
    "\n",
    "    split_index = int(data_y.shape[0]*config[\"data\"][\"train_split_size\"])\n",
    "    data_x_train = data_x[:split_index]\n",
    "    data_x_val = data_x[split_index:]\n",
    "    data_y_train = data_y[:split_index]\n",
    "    data_y_val = data_y[split_index:]\n",
    "\n",
    "    return split_index, data_x_train, data_y_train, data_x_val, data_y_val"
   ]
  },
  {
   "cell_type": "markdown",
   "metadata": {
    "id": "7OaAEH26Dd48"
   },
   "source": [
    "## Preparing Data for LSTM MM"
   ]
  },
  {
   "cell_type": "code",
   "execution_count": 7,
   "metadata": {
    "execution": {
     "iopub.execute_input": "2024-10-15T10:47:09.318098Z",
     "iopub.status.busy": "2024-10-15T10:47:09.317844Z",
     "iopub.status.idle": "2024-10-15T10:47:09.325507Z",
     "shell.execute_reply": "2024-10-15T10:47:09.325052Z",
     "shell.execute_reply.started": "2024-10-15T10:47:09.318080Z"
    },
    "id": "0f1c9FqDDd48",
    "tags": []
   },
   "outputs": [],
   "source": [
    "# The following helper functions and models were based on existing code: https://github.com/lkulowski/LSTM_encoder_decoder\n",
    "\n",
    "def train_test_split(datetime, price, split = 0.8):\n",
    "  '''\n",
    "  Splits time series into train/test sets.\n",
    "  '''  \n",
    "  datetime = np.array(datetime)\n",
    "  price = np.array(price)\n",
    "  \n",
    "  indx_split = int(split * len(price))\n",
    "  indx_train = np.arange(0, indx_split, dtype=int)\n",
    "  indx_val = np.arange(indx_split, len(price), dtype=int)\n",
    "    \n",
    "  t_train = datetime[indx_train]\n",
    "  y_train = price[indx_train]\n",
    "  y_train = y_train.reshape(-1, 1)\n",
    "  \n",
    "  t_val = datetime[indx_val]\n",
    "  y_val = price[indx_val]\n",
    "  y_val = y_val.reshape(-1, 1)\n",
    "  \n",
    "  return t_train, y_train, t_val, y_val \n",
    "\n",
    "\n",
    "def windowed_dataset(y, input_window = 5, output_window = 1, stride = 1, num_features = 1):\n",
    "    '''\n",
    "    Creates a windowed dataset.\n",
    "    '''\n",
    "    L = y.shape[0]\n",
    "    num_samples = (L - input_window - output_window) // stride + 1\n",
    "\n",
    "    X = np.zeros([input_window, num_samples, num_features])\n",
    "    Y = np.zeros([output_window, num_samples, num_features])    \n",
    "    \n",
    "    for ff in np.arange(num_features):\n",
    "        for ii in np.arange(num_samples):\n",
    "            start_x = stride * ii\n",
    "            end_x = start_x + input_window\n",
    "            X[:, ii, ff] = y[start_x:end_x, ff]\n",
    "\n",
    "            start_y = stride * ii + input_window\n",
    "            end_y = start_y + output_window \n",
    "            Y[:, ii, ff] = y[start_y:end_y, ff]\n",
    "\n",
    "    return X, Y\n",
    "\n",
    "\n",
    "def numpy_to_torch(x_train, y_train, x_validation, y_validation, device):\n",
    "    '''\n",
    "    Converts numpy array to PyTorch tensor.\n",
    "    '''\n",
    "    x_train_torch = torch.from_numpy(x_train).type(torch.Tensor).to(device)\n",
    "    y_train_torch = torch.from_numpy(y_train).type(torch.Tensor).to(device)\n",
    "\n",
    "    x_test_torch = torch.from_numpy(x_validation).type(torch.Tensor).to(device)\n",
    "    y_test_torch = torch.from_numpy(y_validation).type(torch.Tensor).to(device)\n",
    "    \n",
    "    return x_train_torch, y_train_torch, x_test_torch, y_test_torch"
   ]
  },
  {
   "cell_type": "markdown",
   "metadata": {
    "id": "nW8JIIAzSFcA"
   },
   "source": [
    "## Defining the Many-to-One LSTM model"
   ]
  },
  {
   "cell_type": "code",
   "execution_count": 8,
   "metadata": {
    "execution": {
     "iopub.execute_input": "2024-10-15T10:47:09.326355Z",
     "iopub.status.busy": "2024-10-15T10:47:09.326184Z",
     "iopub.status.idle": "2024-10-15T10:47:09.329769Z",
     "shell.execute_reply": "2024-10-15T10:47:09.329307Z",
     "shell.execute_reply.started": "2024-10-15T10:47:09.326338Z"
    },
    "id": "1pRFMUlyNZvs",
    "tags": []
   },
   "outputs": [],
   "source": [
    "class TimeSeriesDataset(Dataset):\n",
    "    def __init__(self, x, y):\n",
    "        self.x = x.astype(np.float32)\n",
    "        self.y = y.astype(np.float32)\n",
    "        \n",
    "    def __len__(self):\n",
    "        return len(self.x)\n",
    "\n",
    "    def __getitem__(self, idx):\n",
    "        return (self.x[idx], self.y[idx])"
   ]
  },
  {
   "cell_type": "code",
   "execution_count": 9,
   "metadata": {
    "execution": {
     "iopub.execute_input": "2024-10-15T10:47:09.331481Z",
     "iopub.status.busy": "2024-10-15T10:47:09.331234Z",
     "iopub.status.idle": "2024-10-15T10:47:09.344842Z",
     "shell.execute_reply": "2024-10-15T10:47:09.344372Z",
     "shell.execute_reply.started": "2024-10-15T10:47:09.331463Z"
    },
    "id": "6ynCp-tnJROi",
    "tags": []
   },
   "outputs": [],
   "source": [
    "class LSTM_MO(nn.Module):\n",
    "    def __init__(self, input_size=1, hidden_layer_size=32, num_layers=2, output_size=1, dropout=0.2):\n",
    "        super().__init__()\n",
    "        self.hidden_layer_size = hidden_layer_size\n",
    "\n",
    "        self.linear_1 = nn.Linear(input_size, hidden_layer_size)\n",
    "        self.prelu = nn.PReLU()\n",
    "        self.lstm = nn.LSTM(hidden_layer_size, hidden_size=self.hidden_layer_size, num_layers=num_layers, batch_first=True)\n",
    "        self.dropout = nn.Dropout(dropout)\n",
    "        self.linear_2 = nn.Linear(num_layers*hidden_layer_size, output_size)\n",
    "        \n",
    "        self.init_weights()\n",
    "\n",
    "\n",
    "    def init_weights(self):\n",
    "        for name, param in self.lstm.named_parameters():\n",
    "            if 'bias' in name:\n",
    "                 nn.init.constant_(param, 0.0)\n",
    "            elif 'weight_ih' in name:\n",
    "                 nn.init.kaiming_normal_(param)\n",
    "            elif 'weight_hh' in name:\n",
    "                 nn.init.orthogonal_(param)\n",
    "\n",
    "\n",
    "    def forward(self, x):\n",
    "        batchsize = x.shape[0]\n",
    "        x = self.linear_1(x)\n",
    "        x = self.prelu(x)\n",
    "        lstm_out, (h_n, c_n) = self.lstm(x)\n",
    "        x = h_n.permute(1, 0, 2).reshape(batchsize, -1) \n",
    "        x = self.dropout(x)\n",
    "        predictions = self.linear_2(x)\n",
    "        return predictions[:,-1]\n",
    "\n",
    "\n",
    "    def train_model(self, train_dataloader, val_dataloader, learning_rate, scheduler_step_size, n_epochs=50, device=\"cpu\", save_path=None, forecast_window=None):\n",
    "      \n",
    "        def run_epoch(dataloader, is_training=False):\n",
    "            epoch_loss = 0\n",
    "            outputs = torch.Tensor(0).to(device)\n",
    "            targets = torch.Tensor(0).to(device)\n",
    "            if is_training:\n",
    "                self.train()\n",
    "            else:\n",
    "                self.eval()\n",
    "            for idx, (x, y) in enumerate(dataloader):\n",
    "                if is_training:\n",
    "                    optimizer.zero_grad()\n",
    "\n",
    "                batchsize = x.shape[0]\n",
    "                x = x.to(device)\n",
    "                y = y.to(device)\n",
    "                out = self.forward(x)\n",
    "                loss = criterion(out.contiguous(), y.contiguous())\n",
    "\n",
    "                if is_training:\n",
    "                    loss.backward()\n",
    "                    optimizer.step()\n",
    "                \n",
    "                if not is_training:\n",
    "                    outputs = torch.cat((outputs.contiguous(), out))\n",
    "                    targets = torch.cat((targets, y.contiguous()))\n",
    "                    \n",
    "                epoch_loss += (loss.detach().item() / batchsize)\n",
    "                \n",
    "            lr = scheduler.get_last_lr()[0]\n",
    "            if not is_training:\n",
    "                print(outputs.cpu().detach().numpy())\n",
    "                print(targets.cpu().detach().numpy())\n",
    "                plt.plot(targets.cpu().detach().numpy(), alpha=0.3)\n",
    "                plt.plot(outputs.cpu().detach().numpy())\n",
    "                plt.show()\n",
    "                r2 = r2_score(targets.cpu().detach().numpy(), outputs.cpu().detach().numpy())\n",
    "                return epoch_loss, lr, r2\n",
    "            else:\n",
    "                return epoch_loss, lr\n",
    "\n",
    "      \n",
    "        # define optimizer, scheduler and loss function\n",
    "        criterion = nn.MSELoss(reduction='sum')\n",
    "        optimizer = optim.AdamW(model_MO.parameters(), lr=learning_rate, betas=(0.9, 0.98), eps=1e-9)\n",
    "        scheduler = optim.lr_scheduler.StepLR(optimizer, step_size=scheduler_step_size, gamma=0.995)\n",
    "\n",
    "        # begin training\n",
    "        for epoch in range(n_epochs):\n",
    "            loss_train, lr_train = run_epoch(train_dataloader, is_training=True)\n",
    "            loss_val, lr_val, r2 = run_epoch(val_dataloader)\n",
    "            scheduler.step()\n",
    "\n",
    "            if save_path:\n",
    "                results = {\n",
    "                        'model': 'LSTM_MO',\n",
    "                        'pred_len': forecast_window,\n",
    "                        'epoch': epoch,\n",
    "                        'train_loss': loss_train,\n",
    "                        'val_loss': loss_val,\n",
    "                        'r2_val_sklearn': r2            \n",
    "                }\n",
    "\n",
    "                df = pd.DataFrame([results])\n",
    "                df.to_csv(save_path, mode='a', header=not os.path.exists(save_path), index=False)\n",
    "\n",
    "            \n",
    "            print('Epoch[{}/{}] | loss train:{:.6f}, val loss:{:.6f} | lr:{:.6f} | r2: {:.5f}|'\n",
    "                      .format(epoch+1, n_epochs, loss_train, loss_val, lr_train, r2))"
   ]
  },
  {
   "cell_type": "markdown",
   "metadata": {
    "id": "gkYm8LWuDd4-"
   },
   "source": [
    "## Defining the Many-to-Many LSTM Model"
   ]
  },
  {
   "cell_type": "code",
   "execution_count": 10,
   "metadata": {
    "execution": {
     "iopub.execute_input": "2024-10-15T10:47:09.345962Z",
     "iopub.status.busy": "2024-10-15T10:47:09.345618Z",
     "iopub.status.idle": "2024-10-15T10:47:09.369066Z",
     "shell.execute_reply": "2024-10-15T10:47:09.368603Z",
     "shell.execute_reply.started": "2024-10-15T10:47:09.345944Z"
    },
    "id": "OzauwQ5VDd4_",
    "tags": []
   },
   "outputs": [],
   "source": [
    "class lstm_encoder(nn.Module):\n",
    "    ''' Encodes time-series sequence '''\n",
    "\n",
    "    def __init__(self, input_size, hidden_size, dropout = 0.1, num_layers = 1):\n",
    "        super(lstm_encoder, self).__init__()\n",
    "        self.input_size = input_size\n",
    "        self.hidden_size = hidden_size\n",
    "        self.num_layers = num_layers\n",
    "\n",
    "        # define LSTM layer\n",
    "        self.lstm = nn.LSTM(input_size = input_size, hidden_size = hidden_size,\n",
    "                            num_layers = num_layers, dropout = dropout)\n",
    "\n",
    "    def forward(self, x_input):\n",
    "        lstm_out, self.hidden = self.lstm(x_input.view(x_input.shape[0], x_input.shape[1], self.input_size))\n",
    "        \n",
    "        return lstm_out, self.hidden     \n",
    "    \n",
    "    def init_hidden(self, batch_size):\n",
    "        return (torch.zeros(self.num_layers, batch_size, self.hidden_size),\n",
    "                torch.zeros(self.num_layers, batch_size, self.hidden_size))\n",
    "\n",
    "\n",
    "class lstm_decoder(nn.Module):\n",
    "    ''' Decodes hidden state output by encoder '''\n",
    "    \n",
    "    def __init__(self, input_size, hidden_size, dropout = 0.1, num_layers = 1):\n",
    "        super(lstm_decoder, self).__init__()\n",
    "        self.input_size = input_size\n",
    "        self.hidden_size = hidden_size\n",
    "        self.num_layers = num_layers\n",
    "\n",
    "        self.lstm = nn.LSTM(input_size = input_size, hidden_size = hidden_size,\n",
    "                            num_layers = num_layers, dropout = dropout)\n",
    "        self.PReLU = nn.PReLU()\n",
    "        self.batchnorm = nn.BatchNorm1d(hidden_size)\n",
    "        self.linear = nn.Linear(hidden_size, input_size)           \n",
    "\n",
    "    def forward(self, x_input, encoder_hidden_states):\n",
    "        lstm_out, self.hidden = self.lstm(x_input.unsqueeze(0), encoder_hidden_states)\n",
    "        output = self.PReLU(lstm_out.squeeze(0))\n",
    "        #output = self.batchnorm(output)\n",
    "        output = self.linear(output)     \n",
    "        \n",
    "        return output, self.hidden\n",
    "\n",
    "class LSTM_MM(nn.Module):\n",
    "    ''' train LSTM encoder-decoder and make predictions '''\n",
    "    \n",
    "    def __init__(self, input_size, hidden_size, num_layers, dropout):\n",
    "        super(LSTM_MM, self).__init__()\n",
    "\n",
    "        self.input_size = input_size\n",
    "        self.hidden_size = hidden_size\n",
    "\n",
    "        self.encoder = lstm_encoder(input_size = input_size, hidden_size = hidden_size, num_layers=num_layers, dropout=dropout)\n",
    "        self.decoder = lstm_decoder(input_size = input_size, hidden_size = hidden_size, num_layers=num_layers, dropout=dropout)\n",
    "\n",
    "\n",
    "    def train_model(self, input_tensor_train, target_tensor_train, input_tensor_val, target_tensor_val, n_epochs, target_len,\n",
    "                    batch_size,device, training_prediction = 'recursive', teacher_forcing_ratio = 0.5, learning_rate = 0.01, dynamic_tf = False):\n",
    "        '''\n",
    "        train lstm encoder-decoder\n",
    "        '''\n",
    "\n",
    "        # initialize array of losses \n",
    "        losses_train = np.full(n_epochs, np.nan)\n",
    "        losses_val = np.full(n_epochs, np.nan)\n",
    "\n",
    "        optimizer = optim.Adam(self.parameters(), lr = learning_rate)\n",
    "        criterion = nn.MSELoss()\n",
    "\n",
    "        # calculate number of batch iterations\n",
    "        n_batches_train = int(input_tensor_train.shape[1] / batch_size)\n",
    "        n_batches_val = int(input_tensor_val.shape[1] / batch_size)\n",
    "\n",
    "        with trange(n_epochs) as tr:\n",
    "            for it in tr:\n",
    "                self.train()\n",
    "                batch_loss = 0.\n",
    "\n",
    "                for b in range(n_batches_train):\n",
    "                    # select data \n",
    "                    input_batch = input_tensor_train[:, b: b + batch_size, :]\n",
    "                    target_batch = target_tensor_train[:, b: b + batch_size, :]\n",
    "                    # outputs tensor\n",
    "                    outputs = torch.zeros(target_len, batch_size, input_batch.shape[2])\n",
    "                    # initialize hidden state\n",
    "                    encoder_hidden = self.encoder.init_hidden(batch_size)\n",
    "                    # zero the gradient\n",
    "                    optimizer.zero_grad()\n",
    "                    # encoder outputs\n",
    "                    encoder_output, encoder_hidden = self.encoder(input_batch)\n",
    "                    # decoder with teacher forcing\n",
    "                    decoder_input = input_batch[-1, :, :]   # shape: (batch_size, input_size)\n",
    "                    decoder_hidden = encoder_hidden\n",
    "\n",
    "                    if training_prediction == 'recursive':\n",
    "                        # predict recursively\n",
    "                        for t in range(target_len): \n",
    "                            decoder_output, decoder_hidden = self.decoder(decoder_input, decoder_hidden)\n",
    "                            outputs[t] = decoder_output\n",
    "                            decoder_input = decoder_output\n",
    "\n",
    "                    if training_prediction == 'teacher_forcing':\n",
    "                        # use teacher forcing\n",
    "                        if random.random() < teacher_forcing_ratio:\n",
    "                            for t in range(target_len): \n",
    "                                decoder_output, decoder_hidden = self.decoder(decoder_input, decoder_hidden)\n",
    "                                outputs[t] = decoder_output\n",
    "                                decoder_input = target_batch[t, :, :]\n",
    "\n",
    "                        # predict recursively \n",
    "                        else:\n",
    "                            for t in range(target_len): \n",
    "                                decoder_output, decoder_hidden = self.decoder(decoder_input, decoder_hidden)\n",
    "                                outputs[t] = decoder_output\n",
    "                                decoder_input = decoder_output\n",
    "\n",
    "                    if training_prediction == 'mixed_teacher_forcing':\n",
    "                        # predict using mixed teacher forcing\n",
    "                        for t in range(target_len):\n",
    "                            decoder_output, decoder_hidden = self.decoder(decoder_input, decoder_hidden)\n",
    "                            outputs[t] = decoder_output\n",
    "                            \n",
    "                            # predict with teacher forcing\n",
    "                            if random.random() < teacher_forcing_ratio:\n",
    "                                decoder_input = target_batch[t, :, :]\n",
    "                            \n",
    "                            # predict recursively \n",
    "                            else:\n",
    "                                decoder_input = decoder_output\n",
    "\n",
    "                    # compute the loss \n",
    "                    loss = criterion(outputs.to(device), target_batch.to(device))\n",
    "                    batch_loss += loss.item()\n",
    "                    \n",
    "                    # backpropagation\n",
    "                    loss.backward()\n",
    "                    optimizer.step()\n",
    "\n",
    "                # loss for epoch \n",
    "                batch_loss /= n_batches_train\n",
    "                batch_loss = math.sqrt(batch_loss) \n",
    "                losses_train[it] = batch_loss\n",
    "\n",
    "                #validation\n",
    "                self.eval()                \n",
    "                batch_loss_val = 0.\n",
    "\n",
    "                for b in range(n_batches_val):\n",
    "                    # select data \n",
    "                    input_batch = input_tensor_val[:, b: b + batch_size, :]\n",
    "                    target_batch = target_tensor_val[:, b: b + batch_size, :]\n",
    "                    # outputs tensor\n",
    "                    outputs = torch.zeros(target_len, batch_size, input_batch.shape[2])\n",
    "                    # initialize hidden state\n",
    "                    encoder_hidden = self.encoder.init_hidden(batch_size)\n",
    "                    # encoder outputs\n",
    "                    encoder_output, encoder_hidden = self.encoder(input_batch)\n",
    "                    # decoder with teacher forcing\n",
    "                    decoder_input = input_batch[-1, :, :]   # shape: (batch_size, input_size)\n",
    "                    decoder_hidden = encoder_hidden\n",
    "\n",
    "                    if training_prediction == 'recursive':\n",
    "                        # predict recursively\n",
    "                        for t in range(target_len): \n",
    "                            decoder_output, decoder_hidden = self.decoder(decoder_input, decoder_hidden)\n",
    "                            outputs[t] = decoder_output\n",
    "                            decoder_input = decoder_output\n",
    "\n",
    "                    if training_prediction == 'teacher_forcing':\n",
    "                        # use teacher forcing\n",
    "                        if random.random() < teacher_forcing_ratio:\n",
    "                            for t in range(target_len): \n",
    "                                decoder_output, decoder_hidden = self.decoder(decoder_input, decoder_hidden)\n",
    "                                outputs[t] = decoder_output\n",
    "                                decoder_input = target_batch[t, :, :]\n",
    "\n",
    "                        # predict recursively \n",
    "                        else:\n",
    "                            for t in range(target_len): \n",
    "                                decoder_output, decoder_hidden = self.decoder(decoder_input, decoder_hidden)\n",
    "                                outputs[t] = decoder_output\n",
    "                                decoder_input = decoder_output\n",
    "\n",
    "                    if training_prediction == 'mixed_teacher_forcing':\n",
    "                        # predict using mixed teacher forcing\n",
    "                        for t in range(target_len):\n",
    "                            decoder_output, decoder_hidden = self.decoder(decoder_input, decoder_hidden)\n",
    "                            outputs[t] = decoder_output\n",
    "                            \n",
    "                            # predict with teacher forcing\n",
    "                            if random.random() < teacher_forcing_ratio:\n",
    "                                decoder_input = target_batch[t, :, :]\n",
    "                            \n",
    "                            # predict recursively \n",
    "                            else:\n",
    "                                decoder_input = decoder_output\n",
    "\n",
    "                    # compute the loss \n",
    "                    loss = criterion(outputs.to(device), target_batch.to(device))\n",
    "                    batch_loss_val += loss.item()\n",
    "                \n",
    "                                # loss for epoch \n",
    "                    batch_loss_val /= n_batches_val\n",
    "                    batch_loss_val = math.sqrt(batch_loss_val) \n",
    "                    losses_val[it] = batch_loss_val\n",
    "\n",
    "                # dynamic teacher forcing\n",
    "                if dynamic_tf and teacher_forcing_ratio > 0:\n",
    "                    teacher_forcing_ratio = teacher_forcing_ratio - 0.02\n",
    "                # progress bar \n",
    "                tr.set_postfix(train_loss=\"{0:.3f}\".format(batch_loss),val_loss=\"{0:.3f}\".format(batch_loss_val))\n",
    "                    \n",
    "        return losses_train, losses_val\n",
    "\n",
    "    def predict(self, input_tensor, target_len):\n",
    "        self.eval()\n",
    "\n",
    "        # encode input_tensor\n",
    "        input_tensor = input_tensor.unsqueeze(1)     # add in batch size of 1\n",
    "        encoder_output, encoder_hidden = self.encoder(input_tensor)\n",
    "\n",
    "        # initialize tensor for predictions\n",
    "        outputs = torch.zeros(target_len, input_tensor.shape[2])\n",
    "\n",
    "        # decode input_tensor\n",
    "        decoder_input = input_tensor[-1, :, :]\n",
    "        decoder_hidden = encoder_hidden\n",
    "        \n",
    "        for t in range(target_len):\n",
    "            decoder_output, decoder_hidden = self.decoder(decoder_input, decoder_hidden)\n",
    "            outputs[t] = decoder_output.squeeze(0)\n",
    "            decoder_input = decoder_output\n",
    "            \n",
    "        np_outputs = outputs.detach().numpy()\n",
    "        \n",
    "        return np_outputs"
   ]
  },
  {
   "cell_type": "markdown",
   "metadata": {
    "id": "66Rtd-wjSFcB"
   },
   "source": [
    "## Model training - Many to One"
   ]
  },
  {
   "cell_type": "code",
   "execution_count": 11,
   "metadata": {
    "execution": {
     "iopub.execute_input": "2024-10-15T10:47:09.370041Z",
     "iopub.status.busy": "2024-10-15T10:47:09.369864Z",
     "iopub.status.idle": "2024-10-15T10:47:09.373654Z",
     "shell.execute_reply": "2024-10-15T10:47:09.373204Z",
     "shell.execute_reply.started": "2024-10-15T10:47:09.370023Z"
    },
    "id": "KK88WJ6CLeUS",
    "tags": []
   },
   "outputs": [],
   "source": [
    "def augment_trade_data(df, lag=0, forecast_window=None):\n",
    "    if forecast_window:\n",
    "        df['lag_return'] = np.log(df['price'].shift(forecast_window)/df['price'].shift(forecast_window+1))\n",
    "        return df.iloc[forecast_window+1:,:]\n",
    "    if lag == 0:\n",
    "        return df\n",
    "    else:\n",
    "        col_name = 'log_lag'+str(lag)+'_price'\n",
    "        df[col_name] = np.log(df.price) - np.log(df.price).shift(lag)\n",
    "        return df.iloc[lag:,:]"
   ]
  },
  {
   "cell_type": "code",
   "execution_count": null,
   "metadata": {
    "ExecutionIndicator": {
     "show": true
    },
    "colab": {
     "base_uri": "https://localhost:8080/",
     "height": 1000
    },
    "execution": {
     "iopub.execute_input": "2024-10-15T10:47:09.374551Z",
     "iopub.status.busy": "2024-10-15T10:47:09.374302Z"
    },
    "id": "pv-3a2LZJhN9",
    "outputId": "27b653f9-f01b-4cdb-8ea6-35f6ec083dc4",
    "tags": []
   },
   "outputs": [
    {
     "name": "stdout",
     "output_type": "stream",
     "text": [
      "Train data shape (1375991, 10, 42) (1375991,)\n",
      "Validation data shape (343998, 10, 42) (343998,)\n"
     ]
    }
   ],
   "source": [
    "save_path = os.path.join('/home/gaen/Documents/codespace-gaen/Ts-master/playground_models/lstm_original',\n",
    "                            str(int(time.time()))+'_results.csv')\n",
    "\n",
    "forecast_windows = [i for i in range(1,31)]\n",
    "#forecast_windows = [1:31]\n",
    "\n",
    "for lag in forecast_windows:\n",
    "    orderbook = augment_trade_data(agg_trade, forecast_window=lag)\n",
    "\n",
    "    features = ['price', 'lag_return',\n",
    "                'bid1', 'bidqty1', 'bid2', 'bidqty2', 'bid3', 'bidqty3', 'bid4', 'bidqty4', 'bid5', 'bidqty5',\n",
    "                'bid6', 'bidqty6', 'bid7', 'bidqty7', 'bid8', 'bidqty8', 'bid9', 'bidqty9', 'bid10', 'bidqty10',\n",
    "                'ask1', 'askqty1', 'ask2', 'askqty2', 'ask3', 'askqty3', 'ask4', 'askqty4', 'ask5', 'askqty5',\n",
    "                'ask6', 'askqty6', 'ask7', 'askqty7', 'ask8', 'askqty8', 'ask9', 'askqty9', 'bid10', 'bidqty10']\n",
    "\n",
    "    split_index, data_x_train, data_y_train, data_x_val, data_y_val = prepare_data(np.array(orderbook[features][1_000_000:2_720_000]),\n",
    "                                                                                                                            np.array(agg_trade.datetime[2_005_000:2_006_000]),\n",
    "                                                                                                                            np.array(orderbook[features][60_000:60_600]),\n",
    "                                                                                                                            np.array(agg_trade.datetime[60_000:60_600]),\n",
    "                                                                                                                            config, lag=lag, plot=False)\n",
    "\n",
    "\n",
    "    dataset_train = TimeSeriesDataset(data_x_train, data_y_train)\n",
    "    dataset_val = TimeSeriesDataset(data_x_val, data_y_val)\n",
    "\n",
    "    print(\"Train data shape\", dataset_train.x.shape, dataset_train.y.shape)\n",
    "    print(\"Validation data shape\", dataset_val.x.shape, dataset_val.y.shape)\n",
    "    # print(\"Test data shape\", dataset_test.x.shape, dataset_test.y.shape)\n",
    "\n",
    "\n",
    "    model_MO = LSTM_MO(input_size=len(features), hidden_layer_size=64,\n",
    "                    num_layers=2, output_size=config[\"model_MO\"][\"output_size\"], dropout=0.2)\n",
    "\n",
    "    model_MO = model_MO.to(device)\n",
    "\n",
    "    # create DataLoader\n",
    "    train_dataloader = DataLoader(dataset_train, batch_size=config[\"training_MO\"][\"batch_size\"], shuffle=False)\n",
    "    val_dataloader = DataLoader(dataset_val, batch_size=config[\"training_MO\"][\"batch_size\"], shuffle=False)\n",
    "\n",
    "    model_MO.train_model(train_dataloader=train_dataloader, val_dataloader=val_dataloader, learning_rate=0.001,\n",
    "                scheduler_step_size=config[\"training_MO\"][\"scheduler_step_size\"], n_epochs=10,\n",
    "                device='cuda', save_path=save_path, forecast_window=lag)\n",
    "\n",
    "    # date_now = datetime.now()\n",
    "    # timestamp = date_now.strftime(\"%d-%b-%Y_%H:%M:%S.%f\")\n",
    "    del data_x_train \n",
    "    del data_y_train\n",
    "    del data_x_val\n",
    "    del data_y_val\n",
    "\n",
    "    torch.save(model_MO, f'/home/gaen/Documents/codespace-gaen/Ts-master/playground_models/lstm/No.1/LSTM_MO_LAG_{lag}.pt')"
   ]
  },
  {
   "cell_type": "code",
   "execution_count": 1,
   "metadata": {
    "colab": {
     "base_uri": "https://localhost:8080/",
     "height": 1000
    },
    "id": "OG9B73Cxl1Ck",
    "outputId": "a8d4a5a6-5c9e-4b4d-9ab4-06511c5e8b49"
   },
   "outputs": [
    {
     "ename": "NameError",
     "evalue": "name 'plt' is not defined",
     "output_type": "error",
     "traceback": [
      "\u001b[0;31m---------------------------------------------------------------------------\u001b[0m",
      "\u001b[0;31mNameError\u001b[0m                                 Traceback (most recent call last)",
      "Cell \u001b[0;32mIn[1], line 1\u001b[0m\n\u001b[0;32m----> 1\u001b[0m \u001b[43mplt\u001b[49m\u001b[38;5;241m.\u001b[39mhist(np\u001b[38;5;241m.\u001b[39mrandom\u001b[38;5;241m.\u001b[39mnormal(size \u001b[38;5;241m=\u001b[39m \u001b[38;5;28mlen\u001b[39m(data_y_train)\u001b[38;5;241m*\u001b[39m\u001b[38;5;241m3\u001b[39m), bins\u001b[38;5;241m=\u001b[39m\u001b[38;5;241m150\u001b[39m, alpha\u001b[38;5;241m=\u001b[39m\u001b[38;5;241m0.5\u001b[39m)\n\u001b[1;32m      2\u001b[0m plt\u001b[38;5;241m.\u001b[39mhist(data_y_train, bins\u001b[38;5;241m=\u001b[39m\u001b[38;5;241m150\u001b[39m, alpha\u001b[38;5;241m=\u001b[39m\u001b[38;5;241m0.7\u001b[39m)\n",
      "\u001b[0;31mNameError\u001b[0m: name 'plt' is not defined"
     ]
    }
   ],
   "source": [
    "plt.hist(np.random.normal(size = len(data_y_train)*3), bins=150, alpha=0.5)\n",
    "plt.hist(data_y_train, bins=150, alpha=0.7)"
   ]
  },
  {
   "cell_type": "code",
   "execution_count": null,
   "metadata": {
    "colab": {
     "base_uri": "https://localhost:8080/"
    },
    "id": "Nk9uRrt44_mH",
    "outputId": "43366cd0-9e1f-4187-f2ba-843c5c34d895"
   },
   "outputs": [
    {
     "data": {
      "text/plain": [
       "1.087750500704166"
      ]
     },
     "execution_count": 11,
     "metadata": {},
     "output_type": "execute_result"
    }
   ],
   "source": [
    "np.std(data_y_train)"
   ]
  },
  {
   "cell_type": "code",
   "execution_count": null,
   "metadata": {
    "colab": {
     "base_uri": "https://localhost:8080/"
    },
    "id": "X_7gEXQOyWAS",
    "outputId": "a83416ec-d2b9-4520-b749-8bbdb15f08f3"
   },
   "outputs": [
    {
     "name": "stdout",
     "output_type": "stream",
     "text": [
      "(999900, 100, 2)\n",
      "(999900,)\n",
      "mean for lag 0 0.0\n",
      "std for lag 0 0.0\n",
      "(999899, 100, 2)\n",
      "(999899,)\n",
      "mean for lag 1 -0.002052977139672308\n",
      "std for lag 1 1.0858796465521126\n",
      "(999898, 100, 2)\n",
      "(999898,)\n",
      "mean for lag 2 -0.00410467584064107\n",
      "std for lag 2 1.556017011973598\n",
      "(999897, 100, 2)\n",
      "(999897,)\n",
      "mean for lag 3 -0.006154055526544967\n",
      "std for lag 3 1.9217677462946574\n",
      "(999896, 100, 2)\n",
      "(999896,)\n",
      "mean for lag 4 -0.008209040207585516\n",
      "std for lag 4 2.228366158793651\n",
      "(999895, 100, 2)\n",
      "(999895,)\n",
      "mean for lag 5 -0.010265174427752983\n",
      "std for lag 5 2.4953964400714703\n",
      "(999894, 100, 2)\n",
      "(999894,)\n",
      "mean for lag 6 -0.012325079093808363\n",
      "std for lag 6 2.7358125435737817\n",
      "(999893, 100, 2)\n",
      "(999893,)\n",
      "mean for lag 7 -0.014386081809158619\n",
      "std for lag 7 2.9571307584237307\n",
      "(999892, 100, 2)\n",
      "(999892,)\n",
      "mean for lag 8 -0.01644461902502651\n",
      "std for lag 8 3.162067860737714\n",
      "(999891, 100, 2)\n",
      "(999891,)\n",
      "mean for lag 9 -0.01850095315869017\n",
      "std for lag 9 3.3548281065515297\n",
      "(999890, 100, 2)\n",
      "(999890,)\n",
      "mean for lag 10 -0.020558902994898685\n",
      "std for lag 10 3.537155608454229\n",
      "(999889, 100, 2)\n",
      "(999889,)\n",
      "mean for lag 11 -0.022611658211680753\n",
      "std for lag 11 3.7120803017636343\n",
      "(999888, 100, 2)\n",
      "(999888,)\n",
      "mean for lag 12 -0.02466225354594861\n",
      "std for lag 12 3.8808702095312335\n",
      "(999887, 100, 2)\n",
      "(999887,)\n",
      "mean for lag 13 -0.026712854161459975\n",
      "std for lag 13 4.044880312115551\n",
      "(999886, 100, 2)\n",
      "(999886,)\n",
      "mean for lag 14 -0.028761323182285366\n",
      "std for lag 14 4.203159819962728\n",
      "(999885, 100, 2)\n",
      "(999885,)\n",
      "mean for lag 15 -0.030817527307400023\n",
      "std for lag 15 4.357240893877246\n",
      "(999884, 100, 2)\n",
      "(999884,)\n",
      "mean for lag 16 -0.03286600595474666\n",
      "std for lag 16 4.507623049042775\n",
      "(999883, 100, 2)\n",
      "(999883,)\n",
      "mean for lag 17 -0.034914500014565\n",
      "std for lag 17 4.653999189174414\n",
      "(999882, 100, 2)\n",
      "(999882,)\n",
      "mean for lag 18 -0.03696362944095826\n",
      "std for lag 18 4.796852126690666\n",
      "(999881, 100, 2)\n",
      "(999881,)\n",
      "mean for lag 19 -0.039013347223964344\n",
      "std for lag 19 4.935546171850454\n",
      "(999880, 100, 2)\n",
      "(999880,)\n",
      "mean for lag 20 -0.041069562932317324\n",
      "std for lag 20 5.070954087157907\n",
      "(999879, 100, 2)\n",
      "(999879,)\n",
      "mean for lag 21 -0.04311928849483244\n",
      "std for lag 21 5.202354852476439\n",
      "(999878, 100, 2)\n",
      "(999878,)\n",
      "mean for lag 22 -0.04517186550698742\n",
      "std for lag 22 5.331115430725617\n",
      "(999877, 100, 2)\n",
      "(999877,)\n",
      "mean for lag 23 -0.047224447891172756\n",
      "std for lag 23 5.455929523510874\n",
      "(999876, 100, 2)\n",
      "(999876,)\n",
      "mean for lag 24 -0.049272309827539995\n",
      "std for lag 24 5.577672557351427\n",
      "(999875, 100, 2)\n",
      "(999875,)\n",
      "mean for lag 25 -0.051326032187391304\n",
      "std for lag 25 5.697165151141915\n",
      "(999874, 100, 2)\n",
      "(999874,)\n",
      "mean for lag 26 -0.05337255142873986\n",
      "std for lag 26 5.814317438031195\n",
      "(999873, 100, 2)\n",
      "(999873,)\n",
      "mean for lag 27 -0.055418208250941334\n",
      "std for lag 27 5.928886728694055\n",
      "(999872, 100, 2)\n",
      "(999872,)\n",
      "mean for lag 28 -0.057462275570864675\n",
      "std for lag 28 6.041188956291376\n",
      "(999871, 100, 2)\n",
      "(999871,)\n",
      "mean for lag 29 -0.059506348149458925\n",
      "std for lag 29 6.151541924601213\n",
      "(999870, 100, 2)\n",
      "(999870,)\n",
      "mean for lag 30 -0.061556210241525876\n",
      "std for lag 30 6.259825384143825\n"
     ]
    }
   ],
   "source": [
    "lags = [i for i in range(31)]\n",
    "\n",
    "orderbook = augment_trade_data(agg_trade, forecast_window=lag)\n",
    "means = []\n",
    "stds = []\n",
    "\n",
    "for lag in lags:\n",
    "    split_index, data_x_train, data_y_train, data_x_val, data_y_val, data_x_unseen, data_x_test, data_y_test = prepare_data(np.array(orderbook[['price','bid1']][1_200_000:2_200_000]),\n",
    "                                                                                                                        np.array(agg_trade.datetime[2_000_000:2_100_000]),\n",
    "                                                                                                                        np.array(orderbook[['price','bid1']][60_000:65_000]),\n",
    "                                                                                                                        np.array(agg_trade.datetime[60_000:65_000]),\n",
    "                                                                                                                        config, lag=lag, plot=False)\n",
    "    mean = np.mean(data_y_train)\n",
    "    std =  np.std(data_y_train)\n",
    "    means.append(mean) \n",
    "    stds.append(std)             \n",
    "    print(f'mean for lag {lag} {mean}')\n",
    "    print(f'std for lag {lag} {std}')"
   ]
  },
  {
   "cell_type": "code",
   "execution_count": null,
   "metadata": {
    "colab": {
     "base_uri": "https://localhost:8080/",
     "height": 283
    },
    "id": "mAr3rexp4WHn",
    "outputId": "30718f33-f01d-438f-cee3-c11f0fc1f2af"
   },
   "outputs": [
    {
     "data": {
      "text/plain": [
       "[<matplotlib.lines.Line2D at 0x7f7b953036d0>]"
      ]
     },
     "execution_count": 21,
     "metadata": {},
     "output_type": "execute_result"
    },
    {
     "data": {
      "image/png": "[encoded data removed]",
      "text/plain": [
       "<Figure size 432x288 with 1 Axes>"
      ]
     },
     "metadata": {
      "needs_background": "light"
     },
     "output_type": "display_data"
    }
   ],
   "source": [
    "plt.plot(means)"
   ]
  },
  {
   "cell_type": "code",
   "execution_count": null,
   "metadata": {
    "colab": {
     "base_uri": "https://localhost:8080/",
     "height": 283
    },
    "id": "jNm_7cpy6GzX",
    "outputId": "57186ea5-0c7a-413d-a9b3-7a2447e53ea6"
   },
   "outputs": [
    {
     "data": {
      "text/plain": [
       "[<matplotlib.lines.Line2D at 0x7f7b95ed3e90>]"
      ]
     },
     "execution_count": 22,
     "metadata": {},
     "output_type": "execute_result"
    },
    {
     "data": {
      "image/png": "[encoded data removed]",
      "text/plain": [
       "<Figure size 432x288 with 1 Axes>"
      ]
     },
     "metadata": {
      "needs_background": "light"
     },
     "output_type": "display_data"
    }
   ],
   "source": [
    "plt.plot(stds)"
   ]
  },
  {
   "cell_type": "code",
   "execution_count": null,
   "metadata": {
    "colab": {
     "base_uri": "https://localhost:8080/"
    },
    "id": "ogrYY5L4BDX3",
    "outputId": "ff9b0b87-3156-4850-8c2b-a64d56d21c3d"
   },
   "outputs": [
    {
     "data": {
      "text/plain": [
       "[0.0,\n",
       " 1.0858796465521126,\n",
       " 1.556017011973598,\n",
       " 1.9217677462946574,\n",
       " 2.228366158793651,\n",
       " 2.4953964400714703,\n",
       " 2.7358125435737817,\n",
       " 2.9571307584237307,\n",
       " 3.162067860737714,\n",
       " 3.3548281065515297,\n",
       " 3.537155608454229,\n",
       " 3.7120803017636343,\n",
       " 3.8808702095312335,\n",
       " 4.044880312115551,\n",
       " 4.203159819962728,\n",
       " 4.357240893877246,\n",
       " 4.507623049042775,\n",
       " 4.653999189174414,\n",
       " 4.796852126690666,\n",
       " 4.935546171850454,\n",
       " 5.070954087157907,\n",
       " 5.202354852476439,\n",
       " 5.331115430725617,\n",
       " 5.455929523510874,\n",
       " 5.577672557351427,\n",
       " 5.697165151141915,\n",
       " 5.814317438031195,\n",
       " 5.928886728694055,\n",
       " 6.041188956291376,\n",
       " 6.151541924601213,\n",
       " 6.259825384143825]"
      ]
     },
     "execution_count": 24,
     "metadata": {},
     "output_type": "execute_result"
    }
   ],
   "source": [
    "stds"
   ]
  }
 ],
 "metadata": {
  "accelerator": "GPU",
  "colab": {
   "collapsed_sections": [
    "7OaAEH26Dd48",
    "gkYm8LWuDd4-",
    "9vX43xLNDd5A",
    "YQoZ0uHGSFcD",
    "h-X8WO0FSFcE"
   ],
   "machine_shape": "hm",
   "name": "3_predicting_ts_LSTM.ipynb",
   "provenance": []
  },
  "gpuClass": "standard",
  "kernelspec": {
   "display_name": "lastestorch",
   "language": "python",
   "name": "python3"
  },
  "language_info": {
   "codemirror_mode": {
    "name": "ipython",
    "version": 3
   },
   "file_extension": ".py",
   "mimetype": "text/x-python",
   "name": "python",
   "nbconvert_exporter": "python",
   "pygments_lexer": "ipython3",
   "version": "3.11.9"
  }
 },
 "nbformat": 4,
 "nbformat_minor": 4
}

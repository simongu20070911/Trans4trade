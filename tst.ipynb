{
 "cells": [
  {
   "cell_type": "code",
   "execution_count": 4,
   "metadata": {},
   "outputs": [
    {
     "name": "stdout",
     "output_type": "stream",
     "text": [
      "0.014066696166992188\n"
     ]
    }
   ],
   "source": [
    "import time\n",
    "start_time = time.time()\n",
    "import torch\n",
    "end_time = time.time()\n",
    "\n",
    "print((end_time - start_time)*1000)"
   ]
  },
  {
   "cell_type": "code",
   "execution_count": 41,
   "metadata": {},
   "outputs": [
    {
     "name": "stdout",
     "output_type": "stream",
     "text": [
      "0.5311965942382812\n"
     ]
    }
   ],
   "source": [
    "start_time = time.time()\n",
    "z = torch.randn(10,6).to('cpu')\n",
    "r = z[:,0]\n",
    "p = z*z*z*z*z*z\n",
    "end_time = time.time()\n",
    "print((end_time - start_time)*1000)"
   ]
  },
  {
   "cell_type": "code",
   "execution_count": 1,
   "metadata": {},
   "outputs": [
    {
     "name": "stdout",
     "output_type": "stream",
     "text": [
      "43\n"
     ]
    }
   ],
   "source": [
    "t = sum([1,3,4,5,6,7,8,9])\n",
    "print(t)"
   ]
  },
  {
   "cell_type": "code",
   "execution_count": 1,
   "metadata": {},
   "outputs": [
    {
     "name": "stdout",
     "output_type": "stream",
     "text": [
      "Inference Time: 0.025056 seconds\n",
      "25.055630947463214\n",
      "Output Shape: torch.Size([256, 1])\n"
     ]
    }
   ],
   "source": [
    "import torch\n",
    "import torch.nn as nn\n",
    "import torch.nn.functional as F\n",
    "import time\n",
    "\n",
    "class LSTMAttn(nn.Module):\n",
    "    def __init__(self, input_size=38, hidden_size=64, num_layers=2, dropout=0.1, output_size=1):\n",
    "        super().__init__()\n",
    "        self.lstm = nn.LSTM(\n",
    "            input_size=input_size,\n",
    "            hidden_size=hidden_size,\n",
    "            num_layers=num_layers,\n",
    "            dropout=dropout,\n",
    "            batch_first=True\n",
    "        )\n",
    "        self.dropout = nn.Dropout(dropout)\n",
    "        self.attn_linear = nn.Linear(hidden_size, hidden_size)\n",
    "        self.fc_out = nn.Linear(hidden_size, output_size)\n",
    "\n",
    "    def forward(self, x):\n",
    "        lstm_out, (h, c) = self.lstm(x)   # [B, L, hidden]\n",
    "        query = h[-1]                    # last layer’s hidden: [B, hidden]\n",
    "        query_t = self.attn_linear(query) # [B, hidden]\n",
    "        attn_scores = torch.bmm(lstm_out, query_t.unsqueeze(2)).squeeze(-1)  # [B, L]\n",
    "        attn_weights = F.softmax(attn_scores, dim=1)                         # [B, L]\n",
    "        context = lstm_out * attn_weights.unsqueeze(-1)                      # [B, L, hidden]\n",
    "        context = context.sum(dim=1)                                         # [B, hidden]\n",
    "        context = self.dropout(context)\n",
    "        out = self.fc_out(context)  # -> [B, output_size]\n",
    "        return out\n",
    "\n",
    "# Model instantiation\n",
    "model = LSTMAttn(input_size=72, hidden_size=144, num_layers=2, dropout=0.1, output_size=1)\n",
    "x = torch.randn(256, 100, 72)  # Batch size=32, Sequence length=100, Feature size=38\n",
    "\n",
    "# Measure inference time\n",
    "model.eval()\n",
    "with torch.no_grad():\n",
    "    start_time = time.perf_counter()\n",
    "    output = model(x)\n",
    "    end_time = time.perf_counter()\n",
    "\n",
    "print(f\"Inference Time: {end_time - start_time:.6f} seconds\")\n",
    "#compute infernce time in ms \n",
    "print((end_time - start_time)*1000)\n",
    "print(f\"Output Shape: {output.shape}\")\n"
   ]
  },
  {
   "cell_type": "code",
   "execution_count": 2,
   "metadata": {},
   "outputs": [
    {
     "name": "stdout",
     "output_type": "stream",
     "text": [
      "Inference (Forward Pass) Time: 26.329317 ms\n",
      "Forward Pass (Training) Time: 40.561391 ms\n",
      "Backward Pass (Backpropagation) Time: 72.084657 ms\n",
      "Parameter Update Time: 2.951323 ms\n"
     ]
    }
   ],
   "source": [
    "import torch\n",
    "import torch.nn as nn\n",
    "import torch.nn.functional as F\n",
    "import time\n",
    "\n",
    "class LSTMAttn(nn.Module):\n",
    "    def __init__(self, input_size=38, hidden_size=64, num_layers=2, dropout=0.1, output_size=1):\n",
    "        super().__init__()\n",
    "        self.lstm = nn.LSTM(\n",
    "            input_size=input_size,\n",
    "            hidden_size=hidden_size,\n",
    "            num_layers=num_layers,\n",
    "            dropout=dropout,\n",
    "            batch_first=True\n",
    "        )\n",
    "        self.dropout = nn.Dropout(dropout)\n",
    "        self.attn_linear = nn.Linear(hidden_size, hidden_size)\n",
    "        self.fc_out = nn.Linear(hidden_size, output_size)\n",
    "\n",
    "    def forward(self, x):\n",
    "        lstm_out, (h, c) = self.lstm(x)   # [B, L, hidden]\n",
    "        query = h[-1]                    # last layer’s hidden: [B, hidden]\n",
    "        query_t = self.attn_linear(query) # [B, hidden]\n",
    "        attn_scores = torch.bmm(lstm_out, query_t.unsqueeze(2)).squeeze(-1)  # [B, L]\n",
    "        attn_weights = F.softmax(attn_scores, dim=1)                         # [B, L]\n",
    "        context = lstm_out * attn_weights.unsqueeze(-1)                      # [B, L, hidden]\n",
    "        context = context.sum(dim=1)                                         # [B, hidden]\n",
    "        context = self.dropout(context)\n",
    "        out = self.fc_out(context)  # -> [B, output_size]\n",
    "        return out\n",
    "\n",
    "# Model instantiation\n",
    "model = LSTMAttn(input_size=72, hidden_size=144, num_layers=2, dropout=0.1, output_size=1)\n",
    "x = torch.randn(256, 100, 72)  # Batch size=256, Sequence length=100, Feature size=72\n",
    "y = torch.randn(256, 1)  # True labels (target) for loss calculation\n",
    "\n",
    "# Measure forward pass time\n",
    "model.eval()\n",
    "with torch.no_grad():\n",
    "    start_time = time.perf_counter()\n",
    "    output = model(x)\n",
    "    end_time = time.perf_counter()\n",
    "\n",
    "forward_time = (end_time - start_time) * 1000  # Convert to milliseconds\n",
    "print(f\"Inference (Forward Pass) Time: {forward_time:.6f} ms\")\n",
    "\n",
    "# Measure backward pass time (for training)\n",
    "model.train()  # Set model to training mode\n",
    "criterion = nn.MSELoss()  # Use Mean Squared Error loss (you can choose another loss)\n",
    "optimizer = torch.optim.Adam(model.parameters())  # Optimizer\n",
    "\n",
    "# Forward pass again\n",
    "start_time = time.perf_counter()\n",
    "output = model(x)\n",
    "loss = criterion(output, y)\n",
    "end_time = time.perf_counter()\n",
    "\n",
    "forward_pass_time = (end_time - start_time) * 1000  # Time for forward pass in ms\n",
    "print(f\"Forward Pass (Training) Time: {forward_pass_time:.6f} ms\")\n",
    "\n",
    "# Backward pass\n",
    "optimizer.zero_grad()  # Clear previous gradients\n",
    "start_time = time.perf_counter()\n",
    "loss.backward()  # Compute gradients\n",
    "end_time = time.perf_counter()\n",
    "\n",
    "backward_time = (end_time - start_time) * 1000  # Time for backward pass in ms\n",
    "print(f\"Backward Pass (Backpropagation) Time: {backward_time:.6f} ms\")\n",
    "\n",
    "# Parameter update (optimizer step)\n",
    "start_time = time.perf_counter()\n",
    "optimizer.step()  # Update parameters\n",
    "end_time = time.perf_counter()\n",
    "\n",
    "update_time = (end_time - start_time) * 1000  # Time for parameter update in ms\n",
    "print(f\"Parameter Update Time: {update_time:.6f} ms\")\n"
   ]
  },
  {
   "cell_type": "code",
   "execution_count": null,
   "metadata": {},
   "outputs": [],
   "source": []
  }
 ],
 "metadata": {
  "kernelspec": {
   "display_name": "lastestorch",
   "language": "python",
   "name": "python3"
  },
  "language_info": {
   "codemirror_mode": {
    "name": "ipython",
    "version": 3
   },
   "file_extension": ".py",
   "mimetype": "text/x-python",
   "name": "python",
   "nbconvert_exporter": "python",
   "pygments_lexer": "ipython3",
   "version": "3.11.9"
  }
 },
 "nbformat": 4,
 "nbformat_minor": 2
}
